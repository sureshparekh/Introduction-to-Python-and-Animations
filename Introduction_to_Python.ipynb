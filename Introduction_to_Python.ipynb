{
  "nbformat": 4,
  "nbformat_minor": 0,
  "metadata": {
    "colab": {
      "private_outputs": true,
      "provenance": []
    },
    "kernelspec": {
      "name": "python3",
      "display_name": "Python 3"
    },
    "language_info": {
      "name": "python"
    }
  },
  "cells": [
    {
      "cell_type": "markdown",
      "metadata": {
        "id": "RMvVaHil6k7G"
      },
      "source": [
        "# **Introduction to Python**\n",
        "Python is an interpreted, object-oriented, high-level programming language with dynamic semantics.\n",
        "\n",
        "Firstly, let's begin with the print command!\n",
        "\n",
        "\n",
        "###**Print Command**\n",
        "print()\n",
        "> To display output or results, Python provides the print() function. This function can be used in different formats!\n",
        ">\n",
        "\n",
        "1.   print(\"I'm learning Python\")\n",
        "2.   print('I'm learning python\")\n",
        "3.   print( \"\\\"I\\'m learning Python\\\"\")\n",
        "4. print(\" I\\'m learning python and \\n this is a new line\")\n",
        "\n"
      ]
    },
    {
      "cell_type": "code",
      "metadata": {
        "id": "QnuCPAjLS1Gg"
      },
      "source": [],
      "execution_count": null,
      "outputs": []
    },
    {
      "cell_type": "code",
      "metadata": {
        "id": "aB0FnmQj5yxP"
      },
      "source": [
        "print (\"I am learning Python\")"
      ],
      "execution_count": null,
      "outputs": []
    },
    {
      "cell_type": "code",
      "metadata": {
        "id": "3zS3VU5kCUAF"
      },
      "source": [
        "print(\"I'm learning Python\")"
      ],
      "execution_count": null,
      "outputs": []
    },
    {
      "cell_type": "code",
      "metadata": {
        "id": "dDzQh_J1Car_"
      },
      "source": [
        "#error\n",
        "print( \"\"I'm learning Python\"\")"
      ],
      "execution_count": null,
      "outputs": []
    },
    {
      "cell_type": "code",
      "metadata": {
        "id": "ECRGStNKCh6Y"
      },
      "source": [
        "print(\" I'm learning python and \\n this is a new line\")"
      ],
      "execution_count": null,
      "outputs": []
    },
    {
      "cell_type": "code",
      "metadata": {
        "id": "4CfhgeSeCrcL"
      },
      "source": [
        "print(\"\\\"I\\'m learning python\\\"\") #error"
      ],
      "execution_count": null,
      "outputs": []
    },
    {
      "cell_type": "code",
      "metadata": {
        "id": "JDVP5Ia8FodX"
      },
      "source": [
        "print ('*'*15)"
      ],
      "execution_count": null,
      "outputs": []
    },
    {
      "cell_type": "markdown",
      "metadata": {
        "id": "sPbbCKuvD0Ze"
      },
      "source": [
        "###**Variables**\n",
        "A variable allows you to store values by asigning it to a name which can be used to refer to the value later in the program.\n"
      ]
    },
    {
      "cell_type": "code",
      "metadata": {
        "id": "dEjHZoTTE4r4"
      },
      "source": [
        "#let\n",
        "x = 15\n",
        "y, z = 20, 34\n",
        "python = \"It is easy\" #this is a string\n",
        "is_published = True #boolean\n",
        "print(x,y,z)\n",
        "print(python)"
      ],
      "execution_count": null,
      "outputs": []
    },
    {
      "cell_type": "code",
      "metadata": {
        "id": "w_IQH1J5FIQ1"
      },
      "source": [
        "print (x,y,z, sep =',')"
      ],
      "execution_count": null,
      "outputs": []
    },
    {
      "cell_type": "code",
      "metadata": {
        "id": "r3Cjhi8gF7tZ"
      },
      "source": [
        "x = 26\n",
        "print(x)"
      ],
      "execution_count": null,
      "outputs": []
    },
    {
      "cell_type": "code",
      "metadata": {
        "id": "X7aDTJl4GFXt"
      },
      "source": [
        "y = y+1\n",
        "print(y)"
      ],
      "execution_count": null,
      "outputs": []
    },
    {
      "cell_type": "markdown",
      "metadata": {
        "id": "kiE9w_RdCOnU"
      },
      "source": [
        "anything = \"Hi how are you? Doing great?\"\n",
        "print(anything.split())\n"
      ]
    },
    {
      "cell_type": "code",
      "metadata": {
        "id": "Sr1ni2afPsB7"
      },
      "source": [],
      "execution_count": null,
      "outputs": []
    },
    {
      "cell_type": "markdown",
      "metadata": {
        "id": "JCVL54SGGz7q"
      },
      "source": [
        "###Exercise 1\n",
        "\n",
        "We check in a student named Vaibhav Trivedi. He is 21 years old and is enrolled for the workshop."
      ]
    },
    {
      "cell_type": "code",
      "metadata": {
        "id": "O2ObB_00HLTC"
      },
      "source": [
        "full_name =  'Vaibhav Trivedi'\n",
        "age = 21\n",
        "enrolled = True"
      ],
      "execution_count": null,
      "outputs": []
    },
    {
      "cell_type": "markdown",
      "metadata": {
        "id": "ezTFDosvIF8-"
      },
      "source": [
        "##**Input Command**\n",
        "input()\n",
        "\n",
        "To get input from the user, we use input function.\n",
        "This function takes a value from the user and returns it as a string."
      ]
    },
    {
      "cell_type": "code",
      "metadata": {
        "id": "Xnj63B3rK8LK"
      },
      "source": [
        "name = input('Enter name ')\n",
        "print('Hi ' + name + ' Welcome to the Python Workshop')"
      ],
      "execution_count": null,
      "outputs": []
    },
    {
      "cell_type": "markdown",
      "metadata": {
        "id": "VnfMKBuhCZWN"
      },
      "source": [
        "###Exercise 2\n",
        "Ask input of two questions:\n",
        "1) Person's name (For example: Suresh)\n",
        "\n",
        "2) Person's age (For example: 21)\n",
        "\n",
        "And print: (Person's name) is (Person's age) years old.\n",
        "\n",
        "(For example: Suresh is 21 years old.)"
      ]
    },
    {
      "cell_type": "code",
      "metadata": {
        "id": "FIjDvarTDCSZ"
      },
      "source": [
        "person_name = input('Enter your name: ')\n",
        "person_age = input('Enter your age: ')\n",
        "print(person_name + ' is ' + person_age + ' years old')"
      ],
      "execution_count": null,
      "outputs": []
    },
    {
      "cell_type": "markdown",
      "metadata": {
        "id": "k4Mozo1uaZlx"
      },
      "source": [
        "###Exercise 3\n",
        "\n",
        "Write a code to calculate your age.\n",
        "\n",
        "\n"
      ]
    },
    {
      "cell_type": "code",
      "metadata": {
        "id": "0cuShRb7ajd5"
      },
      "source": [
        "birth_year = input('Birth Year: ')\n",
        "age = 2021 - int(birth_year)\n",
        "print('Your age is ' + str(age))"
      ],
      "execution_count": null,
      "outputs": []
    },
    {
      "cell_type": "markdown",
      "metadata": {
        "id": "I4cqWSftgcob"
      },
      "source": [
        "###Exercise 4\n",
        "\n",
        "Convert weight from pounds to kg and print the output."
      ]
    },
    {
      "cell_type": "code",
      "metadata": {
        "id": "3BeEM4hwgnNt"
      },
      "source": [
        "weight_lbs = input('Weight (lbs): ')\n",
        "weight_kg = int(weight_lbs) * 0.45\n",
        "print('Weight in kg is '+ str(weight_kg))"
      ],
      "execution_count": null,
      "outputs": []
    },
    {
      "cell_type": "markdown",
      "metadata": {
        "id": "04FILL5Bj113"
      },
      "source": [
        "##**Extracting the String**\n",
        "\n"
      ]
    },
    {
      "cell_type": "code",
      "metadata": {
        "id": "2au9HjmDkBoF"
      },
      "source": [
        "string = ''' Python\n",
        "\n",
        "\n",
        "\n",
        "Workshop'''\n",
        "print(string)\n"
      ],
      "execution_count": null,
      "outputs": []
    },
    {
      "cell_type": "code",
      "metadata": {
        "id": "pD4T_5M3kRTP"
      },
      "source": [
        "whatever = '''We are learning Python'''\n",
        "#             0123456789.....\n",
        "print(whatever[4])\n",
        "print(whatever[-4])\n",
        "print(whatever[-2])\n",
        "print(whatever[0:9])\n",
        "print(whatever[0:])\n",
        "print(whatever[1:])\n",
        "print(whatever[:])"
      ],
      "execution_count": null,
      "outputs": []
    },
    {
      "cell_type": "markdown",
      "metadata": {
        "id": "tKaF2_PEl9Hw"
      },
      "source": [
        "###Exercise 5\n",
        "\n",
        "Let\n",
        "\n",
        "name = 'Jahaan'\n",
        "\n",
        "print(name[1:-1])\n",
        "\n",
        "Compute the output\n",
        "\n"
      ]
    },
    {
      "cell_type": "code",
      "metadata": {
        "id": "XmUQDhD5mWPO"
      },
      "source": [
        "name = 'Jahaan'\n",
        "print(name[1:-1])"
      ],
      "execution_count": null,
      "outputs": []
    },
    {
      "cell_type": "markdown",
      "metadata": {
        "id": "KMZC-TLSmZsG"
      },
      "source": [
        "###Exercise 6\n",
        "Take 2 inputs\n",
        "\n",
        "1) First Name\n",
        "\n",
        "2) Last Name\n",
        "\n",
        "Print: First Name [Last Name] is a physics student\n",
        "\n",
        "Example\n",
        "\n",
        "First Name = Bhavya\n",
        "\n",
        "Last Name = Thacker\n",
        "\n",
        "Output: Bhavya [Thacker] is a physics student"
      ]
    },
    {
      "cell_type": "code",
      "metadata": {
        "id": "ADnceLUTodLb"
      },
      "source": [
        "first = input('First Name: ')\n",
        "last = input('Last name: ')\n",
        "output = first + ' [' + last + '] is a physics student'\n",
        "output1 = f'{first} [{last}] is a physics student' #formatted string\n",
        "print(output)\n",
        "print(output1)"
      ],
      "execution_count": null,
      "outputs": []
    },
    {
      "cell_type": "markdown",
      "metadata": {
        "id": "WocfsuNdqFOa"
      },
      "source": []
    },
    {
      "cell_type": "markdown",
      "metadata": {
        "id": "Qdprgg0xqREE"
      },
      "source": [
        "##**String Methods**\n",
        "\n",
        "len() : calculates the number of characters in a string\n",
        "\n"
      ]
    },
    {
      "cell_type": "code",
      "metadata": {
        "id": "-nCiT6XYDKfx"
      },
      "source": [
        "count = 'I am learning Python'\n",
        "print(len(count))"
      ],
      "execution_count": null,
      "outputs": []
    },
    {
      "cell_type": "markdown",
      "metadata": {
        "id": "YoovxENTDy0T"
      },
      "source": [
        "\".\" operator"
      ]
    },
    {
      "cell_type": "code",
      "metadata": {
        "id": "LVfxw--EEBrL"
      },
      "source": [
        "print(count.upper())\n",
        "print(count.lower())\n",
        "print(count.find('P'))\n",
        "print(count.replace('learning', 'Studying'))\n",
        "print('Python' in count)"
      ],
      "execution_count": null,
      "outputs": []
    },
    {
      "cell_type": "markdown",
      "metadata": {
        "id": "qC5TT2oOGPzD"
      },
      "source": [
        "##**Arithmatic Operators**\n",
        "\n",
        "Addition (+)\n",
        "\n",
        "Subtraction (-)\n",
        "\n",
        "Division (/)\n",
        "\n",
        "Multiplication (*)\n",
        "\n",
        "To get integer in division (//)\n",
        "\n",
        "To get remainder of division (%)\n",
        "\n",
        "Exponent (**)\n",
        "\n",
        "Augmented Assignment Operator (+-=)\n",
        "\n"
      ]
    },
    {
      "cell_type": "code",
      "metadata": {
        "id": "55TgEfBGHuTH"
      },
      "source": [
        "a = 10 + 5\n",
        "b = 16 - 6\n",
        "c = 10 / 3\n",
        "d = 2 * 2\n",
        "e = 10 // 3\n",
        "f = 10 % 3\n",
        "g = 4**2\n",
        "print(a, b, c, d, e, f, g, sep=', ')\n",
        "h = 10 + 3 * 2 ** 2\n",
        "print(h)\n",
        "i = (10 + 3) * 2 ** 2\n",
        "print (i)"
      ],
      "execution_count": null,
      "outputs": []
    },
    {
      "cell_type": "markdown",
      "metadata": {
        "id": "x3ymM8JsJ5BV"
      },
      "source": [
        "###Other useful functions\n",
        "\n",
        "round() : rounds off the digits\n",
        "\n",
        "abs() : It always returns a positive number. (Absolute)\n"
      ]
    },
    {
      "cell_type": "markdown",
      "metadata": {
        "id": "Y27VRiM0-cnl"
      },
      "source": []
    },
    {
      "cell_type": "markdown",
      "metadata": {
        "id": "0ES1hmcf1ZnJ"
      },
      "source": [
        "---\n",
        "## **Operations**\n",
        "\n",
        "| Python Operator | Description  |\n",
        "| :---: | :---: |\n",
        "| `+` | addition |\n",
        "| `-` | subtraction |\n",
        "| `*` | multiplication |\n",
        "| `/` | division |\n",
        "| `**` | power |\n",
        "\n",
        "### Addition:\n",
        "As we have seen earlier, we can add two numbers simply by using '`+`' operator.\n",
        " ```  \n",
        "a = 10\n",
        "b = 79\n",
        "sum = a + b\n",
        "print(sum) #=> 89\n",
        "```\n",
        "Examples\n"
      ]
    },
    {
      "cell_type": "code",
      "metadata": {
        "id": "etUdhRlQIXr2"
      },
      "source": [
        "# Integers:\n",
        "a = 12\n",
        "b = 16\n",
        "result_int = a + b\n",
        "\n",
        "# Floating numbers:\n",
        "e = 271e0\n",
        "h = 6.63e0\n",
        "result_float = e + h\n",
        "\n",
        "# Imaginary numbers:\n",
        "k = 10 + 12j\n",
        "j = 15 + 34j\n",
        "result_im = k + j\n",
        "\n",
        "print(f\"Integer sum: {result_int}\\nFloat sum: {result_float}\\nImaginary sum: {result_im}\")"
      ],
      "execution_count": null,
      "outputs": []
    },
    {
      "cell_type": "markdown",
      "metadata": {
        "id": "9PW2sSPsIVYT"
      },
      "source": [
        "\n",
        "### Subtraction:\n",
        "We use the '`-`' operator.\n",
        "Let *a* and *b* be any given number.\n",
        "```\n",
        "    result = a - b\n",
        "```\n",
        "\n"
      ]
    },
    {
      "cell_type": "markdown",
      "metadata": {
        "id": "c-Tqpgt7Ojnt"
      },
      "source": [
        "Examples"
      ]
    },
    {
      "cell_type": "code",
      "metadata": {
        "id": "iJhKL5SYNXyH"
      },
      "source": [
        "# Integers:\n",
        "a = 12\n",
        "b = 16\n",
        "result_int = a - b\n",
        "\n",
        "# Floating numbers:\n",
        "e = 271e0\n",
        "h = 6.63e0\n",
        "result_float = e - h\n",
        "\n",
        "# Imaginary numbers:\n",
        "k = 10 + 12j\n",
        "j = 15 + 34j\n",
        "result_im = k - j\n",
        "\n",
        "print(f\"Integer result: {result_int}\\nFloat result: {result_float}\\nImaginary result: {result_im}\")"
      ],
      "execution_count": null,
      "outputs": []
    },
    {
      "cell_type": "markdown",
      "metadata": {
        "id": "Lj_wboPlNV9j"
      },
      "source": [
        "### Multiplication:\n",
        "We use the '`*`' to multiply"
      ]
    },
    {
      "cell_type": "code",
      "metadata": {
        "id": "NqHk7xZOOrC0"
      },
      "source": [
        "# Integers:\n",
        "a = 12\n",
        "b = 16\n",
        "result_int = a * b\n",
        "\n",
        "# Floating numbers:\n",
        "e = 271.4\n",
        "h = 6.63\n",
        "result_float = e * h\n",
        "\n",
        "# Imaginary numbers:\n",
        "k = 10 + 12j\n",
        "j = 15 + 34j\n",
        "result_im = k * j\n",
        "\n",
        "print(f\"Integer sum: {result_int}\\nFloat sum: {result_float}\\nImaginary sum: {result_im}\")"
      ],
      "execution_count": null,
      "outputs": []
    },
    {
      "cell_type": "markdown",
      "metadata": {
        "id": "jkWYK_FMK-_5"
      },
      "source": [
        "###Division:\n",
        "There are two main types of division operators, \"`/`\" and \"`//`\".\n",
        "- '`/`' is used for normal division.\n",
        "- '`//`' is used for integer type division (rounded-down method).\n",
        "\n",
        "Example:\n",
        "\n"
      ]
    },
    {
      "cell_type": "code",
      "metadata": {
        "id": "E9EFTXjqvrPN"
      },
      "source": [
        "# Defining Variables:\n",
        "a = 73\n",
        "b = 4\n",
        "# Normal division\n",
        "print(f\"Normal division: a/b = {a/b}\")\n",
        "\n",
        "# Integer division\n",
        "print(f\"Integer division: a//b = {a//b}\")"
      ],
      "execution_count": null,
      "outputs": []
    },
    {
      "cell_type": "code",
      "metadata": {
        "id": "8pUYE4VTxg2g"
      },
      "source": [
        "#Example 2:\n",
        "a = -19\n",
        "b = 3\n",
        "# Normal division\n",
        "print(f\"Normal division: a/b = {a/b}\")\n",
        "\n",
        "# Integer division\n",
        "print(f\"Integer division: a//b = {a//b}\")"
      ],
      "execution_count": null,
      "outputs": []
    },
    {
      "cell_type": "markdown",
      "metadata": {
        "id": "NZfZEYHVxSDx"
      },
      "source": [
        "Integer division gives us the closest lower integer from the actual division.\n",
        "\n",
        "**In case** of complex number division:"
      ]
    },
    {
      "cell_type": "code",
      "metadata": {
        "id": "V7I_k3qZx6XG"
      },
      "source": [
        "c = 2 + 3j\n",
        "d = 4 +6j\n",
        "\n",
        "d/c"
      ],
      "execution_count": null,
      "outputs": []
    },
    {
      "cell_type": "markdown",
      "metadata": {
        "id": "Y8dPnZbey5A5"
      },
      "source": [
        "Which is the answer to $(4+6i)/(2+3i)$ after *rationalizing* the denominator."
      ]
    },
    {
      "cell_type": "markdown",
      "metadata": {
        "id": "6KnXmTN306if"
      },
      "source": [
        "**Note**: You cannot take integer division for Imaginary numbers\n",
        "\n",
        "- Error received is **TypeError: can't take floor of complex number.**"
      ]
    },
    {
      "cell_type": "markdown",
      "metadata": {
        "id": "nHXFJ3qfvoeT"
      },
      "source": [
        "#### Useful link for Division in Python:\n",
        "- Webiste: [geeksforgeeks](https://www.geeksforgeeks.org/division-operator-in-python/)"
      ]
    },
    {
      "cell_type": "markdown",
      "metadata": {
        "id": "EqyHg2iS1vnb"
      },
      "source": [
        "### <u>Power</u>:\n",
        "We can use '`**`' operator to denote power (raised to-).\n",
        "\n",
        "For example:\n",
        "If we want, **$c = a^{b}$**"
      ]
    },
    {
      "cell_type": "code",
      "metadata": {
        "id": "U1sKPgrK3y2X"
      },
      "source": [
        "# Defining variables:\n",
        "a = 7\n",
        "b = 3\n",
        "\n",
        "# Using the Power operator\n",
        "c = a**b\n",
        "\n",
        "#Result:\n",
        "c"
      ],
      "execution_count": null,
      "outputs": []
    },
    {
      "cell_type": "markdown",
      "metadata": {
        "id": "6egC3gs44Xed"
      },
      "source": [
        "In case of complex numbers:\n",
        "\n",
        "We expect $(2+3i)^2 = -5 +12i$"
      ]
    },
    {
      "cell_type": "code",
      "metadata": {
        "id": "iE_fZ7qX4Bp4"
      },
      "source": [
        "(2+3j)**2"
      ],
      "execution_count": null,
      "outputs": []
    },
    {
      "cell_type": "markdown",
      "metadata": {
        "id": "uqy4Nye44t99"
      },
      "source": [
        "Hence verified.\n",
        "\n",
        "Let us take another example:"
      ]
    },
    {
      "cell_type": "code",
      "metadata": {
        "id": "WNw0XxdA9zEv"
      },
      "source": [
        "(1+1j)**(1-1j)"
      ],
      "execution_count": null,
      "outputs": []
    },
    {
      "cell_type": "markdown",
      "metadata": {
        "id": "tLho3uM9KWOy"
      },
      "source": [
        "## Math module\n",
        "\n",
        "import math\n",
        "\n",
        "It contains various mathematical functions like trigonomical unctgions, ceiling, floor, etc.\n",
        "\n",
        "To know about all the functions, we  can visit the website to get the list of all the available functions. [Click here](https://docs.python.org/3/library/math.html)\n",
        "\n"
      ]
    },
    {
      "cell_type": "code",
      "metadata": {
        "id": "nOvdiWDdME7H"
      },
      "source": [
        "import math\n",
        "print(math,ceil(5.7))\n",
        "print(math,floor(5.7))"
      ],
      "execution_count": null,
      "outputs": []
    },
    {
      "cell_type": "markdown",
      "metadata": {
        "id": "nWOAEhc29qpI"
      },
      "source": [
        "##**Control FLow**\n",
        "- Control Flow statements like loops and conditionals have blocks indicated by indentations. Any number of whitespaces is syntactically correct as long as it is consistent within a block. Typically `tab` is used for indentation which is equivalent to 4 spaces.\n",
        "- Looping statements are used to repeat tasks. To iterate over a sequence of numbers, the built-in function `range()` can be used. It generates arithmetic progression.\n",
        "- `while` loop can execute a set of statements as long as a condition is `True`\n",
        "- `for` loop is used for iterating over a sequence (either list, tuple, dictionary, set or string)\n",
        "- `break` is used to stop the loop even if the while condition is `True`\n",
        "- `continue` is used to stop the current iteration, and continue to the next."
      ]
    },
    {
      "cell_type": "markdown",
      "metadata": {
        "id": "lPVO6cHsuBMF"
      },
      "source": [
        "## **If statement**\n",
        "\n",
        "We can use if statement to run a code if a certain condition holds. If a expression evaluates to True, some statements are caried out. Otherwise, they aren't carried out.\n",
        "\n",
        "- An `if` statement checks for the given condition\n",
        "- Notations for logical conditons:\n",
        "  - `a==b` - Equals\n",
        "  - `a != b` - Not equal\n",
        "  - `a < b` - Less than\n",
        "  - `a <= b` - Less than or equal to\n",
        "  - `a > b` - Greater than\n",
        "  - `a >= b` - Greater than or equal to\n",
        "- `elif` means else if (if the previous conditions were not true, then try this condition)\n",
        "- `else` is for any other condition which doesn't belong to previous conditions.\n"
      ]
    },
    {
      "cell_type": "code",
      "metadata": {
        "id": "1KOp77aiurxD"
      },
      "source": [
        "if 10 > 5 :\n",
        "  print(\"10 greater than 5\")\n",
        "print(\"program ended\")"
      ],
      "execution_count": null,
      "outputs": []
    },
    {
      "cell_type": "markdown",
      "metadata": {
        "id": "0PnyZU9IvUBS"
      },
      "source": [
        "###Exercise 7\n",
        "\n",
        "If it's a hot day,\n",
        "\n",
        "print: It is a hot day\n",
        "\n",
        "Enjoy your day.\n",
        "\n"
      ]
    },
    {
      "cell_type": "code",
      "metadata": {
        "id": "gwFtaYLFr_B4"
      },
      "source": [
        "is_hot = True\n",
        "if is_hot:\n",
        "  print(\"It is a hot day\")\n",
        "print(\"Enjoy your day\")"
      ],
      "execution_count": null,
      "outputs": []
    },
    {
      "cell_type": "markdown",
      "metadata": {
        "id": "MBCJc3Ocs55H"
      },
      "source": [
        "##**Else Statement**\n",
        "\n",
        "An else statement follows an if statement, a nd comtains code that is called when the if statement evaluates to False. As with is statements, the code inside the block shpould be indended.\n"
      ]
    },
    {
      "cell_type": "code",
      "metadata": {
        "id": "Y1tA7-o7ta8q"
      },
      "source": [
        "number = 5\n",
        "if number == 4:\n",
        "  print(\"Number Equals 4\")\n",
        "else:\n",
        "  print(\"Number does not equal 4\")"
      ],
      "execution_count": null,
      "outputs": []
    },
    {
      "cell_type": "markdown",
      "metadata": {
        "id": "7ql2pucOvWJ1"
      },
      "source": [
        "##**Elif Statement**\n",
        "\n",
        "The elif statement (short form of else if) is a shortcut to use when chaining if and else statement.\n",
        "\n",
        "A series of elif statements can have a final else block, called if none of if or elif expression is true.\n",
        "\n",
        "In the below example, you define two variables room and area. You then construct if-elif-else and if-else conditions each for room and area, respectively.\n",
        "\n",
        "In the first condition, you check if you are looking in the kitchen, elif you are looking in the bedroom, else you are looking around elsewhere. Depending on the value of the room variable, the satisfied condition is executed."
      ]
    },
    {
      "cell_type": "code",
      "metadata": {
        "id": "H73crSPt1oVY"
      },
      "source": [
        "room = \"bed\"\n",
        "if room == \"kit\":\n",
        "  print(\"Looking around in the kitchen.\")\n",
        "elif room == \"bed\":\n",
        "  print(\"looking around in the bedroom.\")\n",
        "else :\n",
        "  print(\"looking around elsewhere.\")"
      ],
      "execution_count": null,
      "outputs": []
    },
    {
      "cell_type": "code",
      "metadata": {
        "id": "OOPI3YDm-HuA"
      },
      "source": [
        "a = 4\n",
        "if a<5:\n",
        "    print(a,\"is less than 5.\")\n",
        "elif a==5:\n",
        "    print(a,\"is equal to 5.\")\n",
        "else:\n",
        "    print(a,\"is greater than 5.\")"
      ],
      "execution_count": null,
      "outputs": []
    },
    {
      "cell_type": "code",
      "metadata": {
        "id": "JVkZARYF-LSM"
      },
      "source": [
        "b = float(input(\"Enter the number: \")) # takes the number from user and defines b as a float.\n",
        "if b < 10:\n",
        "    print(b,\"is less than 10.\")\n",
        "elif b==10:\n",
        "    print(b,\"is equal to 10.\")\n",
        "else:\n",
        "    print(b,\"is greater than 10.\")"
      ],
      "execution_count": null,
      "outputs": []
    },
    {
      "cell_type": "markdown",
      "metadata": {
        "id": "nuLFkKYXFzfE"
      },
      "source": [
        "###Exercise 8\n",
        "\n",
        "Simar to previous exercise, instad to one boolean, use two boleans (is_hot and is_cold) and create a elif structure which will give messages for each case.\n",
        "\n",
        "if it is a hot day\n",
        "\n",
        "Print: It's a hot day. Drink plenty of water\n",
        "\n",
        "If it is a cold day\n",
        "\n",
        "Print: It's a cold day. Wear warm clothes.\n",
        "\n",
        "End with \"Enjoy your Day\""
      ]
    },
    {
      "cell_type": "code",
      "metadata": {
        "id": "XED9SjKoGefa"
      },
      "source": [
        "is_hot = False\n",
        "is_cold = True\n",
        "if is_hot:\n",
        "  print(\"It's a hot day. Drink plenty of water\")\n",
        "elif is_cold:\n",
        "  print(\"It's a cold day. Wear warm clothes\")\n",
        "else:\n",
        "  print(\"It's a lovely day\")\n",
        "print(\"Enjoy your day\")\n"
      ],
      "execution_count": null,
      "outputs": []
    },
    {
      "cell_type": "markdown",
      "metadata": {
        "id": "-_kn7onXKctg"
      },
      "source": [
        "###Exercise 9\n",
        "\n",
        "Price of a house is 1 million\n",
        "\n",
        "If buyer has good credit,\n",
        "\n",
        "  \n",
        "\n",
        "> they need to put down 10%\n",
        "\n",
        "Otherwise\n",
        "\n",
        "\n",
        "> they need to put down 20%\n",
        "\n",
        "Print the down payment\n"
      ]
    },
    {
      "cell_type": "code",
      "metadata": {
        "id": "aOFO_uXtLx1i"
      },
      "source": [
        "price = 1000000\n",
        "good_credit = True\n",
        "if good_credit:\n",
        "  down_payment = price * 0.1\n",
        "else:\n",
        "  down_payment = price * 0.2\n",
        "print (f\"Down Payment: ${down_payment}\")"
      ],
      "execution_count": null,
      "outputs": []
    },
    {
      "cell_type": "markdown",
      "metadata": {
        "id": "OqYazfo8Mj4W"
      },
      "source": [
        "##**Logical Operators**\n",
        "and, or\n",
        "\n",
        "\n",
        "Example 1: If an applicant has high income AND good credit\n",
        "\n",
        "Eligible for loan\n",
        "\n",
        "Example 2: If an applicant has high income or good credit\n",
        "\n",
        "Eligible for loan\n",
        "\n"
      ]
    },
    {
      "cell_type": "code",
      "metadata": {
        "id": "M3339EHUUFhj"
      },
      "source": [
        "#Example 1\n",
        "high_income = False\n",
        "has_good_credit = True\n",
        "\n",
        "if high_income and has_good_credit:\n",
        "  print(\"Eligible for loan\")\n",
        "else:\n",
        "  print(\"Not eligible for loan\")\n"
      ],
      "execution_count": null,
      "outputs": []
    },
    {
      "cell_type": "code",
      "metadata": {
        "id": "Uj-XcHLxUcCq"
      },
      "source": [
        "#Example 2\n",
        "high_income = False\n",
        "has_good_credit = True\n",
        "\n",
        "if high_income or has_good_credit:\n",
        "  print(\"Eligible for loan\")\n",
        "else:\n",
        "  print(\"Not eligible for loan\")"
      ],
      "execution_count": null,
      "outputs": []
    },
    {
      "cell_type": "markdown",
      "metadata": {
        "id": "XSPHFfn6U8N9"
      },
      "source": [
        "Example 3: If an applicant has good credit AND doesn't have a criminal record:\n",
        "\n",
        "Eligible for loan"
      ]
    },
    {
      "cell_type": "code",
      "metadata": {
        "id": "JHfdIYZUVMKL"
      },
      "source": [
        "#Example 3\n",
        "has_good_credit = False\n",
        "no_criminal_record = True\n",
        "\n",
        "if has_good_credit and no_criminal_record:\n",
        "  print(\"Eligible for loan\")\n",
        "else:\n",
        "  print(\"Not eligible for loan\")"
      ],
      "execution_count": null,
      "outputs": []
    },
    {
      "cell_type": "markdown",
      "metadata": {
        "id": "8CV_NXSTekQa"
      },
      "source": [
        "###Exercise 10\n",
        "\n",
        "If name is less then 3 characeters long\n",
        "\n",
        "\n",
        "> name must be at atleast 3 characters\n",
        "\n",
        "otherwise if it's more than 50 characters long\n",
        "\n",
        "> name must be a maximum of 50 characters\n",
        "\n",
        "otherwise\n",
        "\n",
        "\n",
        "> name looks good!\n",
        "\n",
        "\n",
        "\n",
        "\n"
      ]
    },
    {
      "cell_type": "code",
      "metadata": {
        "id": "5KsWOK4bfdwG"
      },
      "source": [
        "name = input(\"Enter your name: \")\n",
        "if len(name) < 3:\n",
        "  print(\"name must be at atleast 3 characters\")\n",
        "elif len(name) > 50:\n",
        "  print(\"name must be a maximum of 50 characters\")\n",
        "else:\n",
        "  print(\"Name looks good!\")"
      ],
      "execution_count": null,
      "outputs": []
    },
    {
      "cell_type": "markdown",
      "metadata": {
        "id": "95zMEbqooeJK"
      },
      "source": [
        "###Exercise 11\n",
        "\n",
        "Create Weight calculator for converting (kg to lbs) or(lbs to kg).\n",
        "\n",
        "(Lbs = Weight * 0.45)"
      ]
    },
    {
      "cell_type": "code",
      "metadata": {
        "id": "Yj4Hsb0njtmO"
      },
      "source": [
        "weight = int(input('Weight: '))\n",
        "unit = input('(L)bs or (K)g: ')\n",
        "if unit.upper == 'L':\n",
        "  converted = weight  * 0.45\n",
        "  print(f\"You are {converted} kilos\")\n",
        "else:\n",
        "  converted = weight / 0.45\n",
        "  print(f\"You are {converted} pounds\")"
      ],
      "execution_count": null,
      "outputs": []
    },
    {
      "cell_type": "markdown",
      "metadata": {
        "id": "IlCb1u3WVFWO"
      },
      "source": [
        "## **for/range**\n",
        "With `for` loop we can iterate over a sequence or execute a set of statements, once for each item in list, tuple, set, etc.\n",
        "\n"
      ]
    },
    {
      "cell_type": "code",
      "metadata": {
        "id": "2Mqpon-667aF"
      },
      "source": [
        "for x in \"Physics\":\n",
        "  print(x)"
      ],
      "execution_count": null,
      "outputs": []
    },
    {
      "cell_type": "code",
      "metadata": {
        "id": "-YTVZfaS7P72"
      },
      "source": [
        "for x in range(10):\n",
        "  print(x)"
      ],
      "execution_count": null,
      "outputs": []
    },
    {
      "cell_type": "code",
      "metadata": {
        "id": "9qwLguWo8iPf"
      },
      "source": [
        "# range(inclusive, exclusive, step size)\n",
        "# range(0,10,2) will give 0,2,4,6,8\n",
        "for i in range(0,10,2):\n",
        "    print(2**i,end='  ')\n",
        "#This will print powers of 2 upto 2^8"
      ],
      "execution_count": null,
      "outputs": []
    },
    {
      "cell_type": "code",
      "metadata": {
        "id": "cMDr177i8k_B"
      },
      "source": [
        "# Breaking the loop\n",
        "topics = [\"Gravitational Dynamics\",\"Wave mechanics\",\"Quantum Mechanics\",\"Statistical Mechanics\"]\n",
        "for x in topics:\n",
        "  print(x)\n",
        "  if x == \"Quantum Mechanics\":\n",
        "    break #This will stop the loop when above condition is reached"
      ],
      "execution_count": null,
      "outputs": []
    },
    {
      "cell_type": "markdown",
      "metadata": {
        "id": "vlVTl7FO8n1h"
      },
      "source": [
        "###Exercise 12\n",
        "Create a code to calculate Factorial(!) of a number using for loop.\n"
      ]
    },
    {
      "cell_type": "code",
      "metadata": {
        "id": "MLj1XJGf80vR"
      },
      "source": [
        "f = 1\n",
        "n = int(input(\"Enter the number: \"))\n",
        "for i in range(1,n+1): # index of range is n + 1\n",
        "  f = f*i\n",
        "print(n,\"! = \",f)"
      ],
      "execution_count": null,
      "outputs": []
    },
    {
      "cell_type": "markdown",
      "metadata": {
        "id": "sE5RReNK82Nv"
      },
      "source": [
        "##**While / Continue Loop**\n",
        "- `while` loop executes a set of statements as long as a condition is true.\n",
        "- `continue` stops the current iteration and continues with the next."
      ]
    },
    {
      "cell_type": "code",
      "metadata": {
        "id": "pXa2S0mK8_Xr"
      },
      "source": [
        "i = 0\n",
        "while i < 10:\n",
        "  i = i + 1\n",
        "  print(i)\n",
        "# Try changing the order of i = i + 1 and print command and notice the difference"
      ],
      "execution_count": null,
      "outputs": []
    },
    {
      "cell_type": "code",
      "metadata": {
        "id": "NIhnhCAP9DZA"
      },
      "source": [
        "i = 0\n",
        "while i < 10:\n",
        "  print(i)\n",
        "  if i == 5:\n",
        "    break # This will exit the loop when i is 5\n",
        "  i = i + 1"
      ],
      "execution_count": null,
      "outputs": []
    },
    {
      "cell_type": "code",
      "metadata": {
        "id": "NgvV3T4s9FZN"
      },
      "source": [
        "i = 0\n",
        "while i < 10:\n",
        "  i = i + 1\n",
        "  if i == 5:\n",
        "    continue # When i is 5 it will skip that iteration and continue\n",
        "  print(i)"
      ],
      "execution_count": null,
      "outputs": []
    },
    {
      "cell_type": "markdown",
      "metadata": {
        "id": "hI5nXRJc9MWH"
      },
      "source": [
        "###Exercise 13\n",
        "Repeat exercise 12 using while loop."
      ]
    },
    {
      "cell_type": "code",
      "metadata": {
        "id": "Caa8K-TU9buM"
      },
      "source": [
        "f = 1\n",
        "n = int(input(\"Enter a number: \"))\n",
        "counter = 1\n",
        "while (counter <= n):\n",
        "  f = f*counter\n",
        "  counter = counter + 1\n",
        "print(n,\"! = \",f)"
      ],
      "execution_count": null,
      "outputs": []
    },
    {
      "cell_type": "markdown",
      "metadata": {
        "id": "H2I_CFZ59dkr"
      },
      "source": []
    },
    {
      "cell_type": "markdown",
      "metadata": {
        "id": "z0x6uAZsb0cH"
      },
      "source": [
        "## **Lists**\n",
        "- Lists is an ordered collection of elements enclosed within `[ ]`\n",
        "- Lists are similar to tuples, the difference is that lists are $mutable$, i.e., we can change data or reassign items.\n",
        "- `L = [1,2,'a','b',True,3.145,False]`\n",
        "- Accessing elements is same as tuples.\n",
        "\n",
        "    `L[0]`, `L[3]`, `L[2,6]`, etc\n",
        "\n",
        "- To change the element in list enter the element number in square bracket and reassign\n",
        "\n",
        "    `L[0] = 100`\n",
        "    \n",
        "- To add element in list we use 'append',\n",
        "\n",
        "    `L.append( )`\n",
        "    \n",
        "- To add list inside list,\n",
        "\n",
        "    `L.append([5,6,7,8])`\n",
        "    \n",
        "- To remove element from list,\n",
        "\n",
        "    `L.pop( )` - pops out the last element in list  \n",
        "    `L.pop(index)` - pops out the element at the said index"
      ]
    },
    {
      "cell_type": "code",
      "metadata": {
        "id": "RhjmylUDQW96"
      },
      "source": [
        "# Define a list using [ ] square brackets\n",
        "L = [1,2,'a','b',True,3.145,1+2j]"
      ],
      "execution_count": null,
      "outputs": []
    },
    {
      "cell_type": "code",
      "metadata": {
        "id": "t9SXyWgLQXzY"
      },
      "source": [
        "# Access elements using their index\n",
        "L[4]"
      ],
      "execution_count": null,
      "outputs": []
    },
    {
      "cell_type": "code",
      "metadata": {
        "id": "2Wda37vVQaiQ"
      },
      "source": [
        "# Changing element in list\n",
        "L[0] = 100\n",
        "print(L)"
      ],
      "execution_count": null,
      "outputs": []
    },
    {
      "cell_type": "code",
      "metadata": {
        "id": "XDzs8vzcQc9z"
      },
      "source": [
        "# Adding element in a list\n",
        "L.append(24)\n",
        "print(L)"
      ],
      "execution_count": null,
      "outputs": []
    },
    {
      "cell_type": "code",
      "metadata": {
        "id": "SGqWBYJAQfZT"
      },
      "source": [
        "# Adding a list to a list\n",
        "L.append([5,6,7,8])\n",
        "print(L)"
      ],
      "execution_count": null,
      "outputs": []
    },
    {
      "cell_type": "code",
      "metadata": {
        "id": "Sax3Ac9TQiiQ"
      },
      "source": [
        "# Removing elements\n",
        "L.pop() # Will remove the last element\n",
        "print(L)"
      ],
      "execution_count": null,
      "outputs": []
    },
    {
      "cell_type": "code",
      "metadata": {
        "id": "R38SQvScQk38"
      },
      "source": [
        "L.pop(3) # Will remove element at 3rd index i.e 'b'\n",
        "print(L)"
      ],
      "execution_count": null,
      "outputs": []
    }
  ]
}