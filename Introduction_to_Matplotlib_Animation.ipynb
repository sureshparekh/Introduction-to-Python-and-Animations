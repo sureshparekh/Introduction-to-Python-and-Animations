{
  "nbformat": 4,
  "nbformat_minor": 0,
  "metadata": {
    "colab": {
      "private_outputs": true,
      "provenance": []
    },
    "kernelspec": {
      "name": "python3",
      "display_name": "Python 3"
    },
    "language_info": {
      "name": "python"
    }
  },
  "cells": [
    {
      "cell_type": "markdown",
      "metadata": {
        "id": "lWlpE_IQdmo_"
      },
      "source": [
        "# Matplotlib\n",
        "Matplotlib is a plotting library which is excellent for data visualization.  \n",
        "pyplot is mainly intended for interactive plots and simple cases of programmatic plot generation\n",
        "\n",
        "`matplotlib.pyplot` is a collection of functions that make matplotlib work like [MATLAB](https://in.mathworks.com/products/matlab.html). There are many `pyplot` functions capable of changing figures: e.g., creates a figure, creates a plotting area in a figure, plots some lines in a plotting area, decorates the plot with labels and many more.\n",
        "You can explore the [entire list of functions](https://matplotlib.org/stable/api/_as_gen/matplotlib.pyplot.html#functions) in `matplotlib.pyplot` library."
      ]
    },
    {
      "cell_type": "code",
      "metadata": {
        "id": "2RT7SaBZkbia"
      },
      "source": [
        "import matplotlib.pyplot as plt\n",
        "import numpy as np # it's useful to import numpy too because you'll be dealing with arrays"
      ],
      "execution_count": null,
      "outputs": []
    },
    {
      "cell_type": "code",
      "metadata": {
        "id": "ZVRcas3Qkimt"
      },
      "source": [
        "import matplotlib.pyplot as plt\n",
        "import numpy as np\n",
        "plt.plot([1,3,5,7,9])\n",
        "plt.show()"
      ],
      "execution_count": null,
      "outputs": []
    },
    {
      "cell_type": "code",
      "metadata": {
        "id": "upduqSC7L4Ds"
      },
      "source": [],
      "execution_count": null,
      "outputs": []
    },
    {
      "cell_type": "markdown",
      "metadata": {
        "id": "JN6ANYaJkvSC"
      },
      "source": [
        "This is a very simple plot, a straight line.  \n",
        "The syntax is `plt.plot(x_co-ordinate, y_co-ordinate)`\n",
        "If we put only 1 array it is considered as an array of y_co-ordinates and by default x_axis is [0,1,2,3...]  \n",
        "`plt.show()` Displays the plot"
      ]
    },
    {
      "cell_type": "code",
      "metadata": {
        "id": "tUdHNhXslM4C"
      },
      "source": [
        "%matplotlib inline"
      ],
      "execution_count": null,
      "outputs": []
    },
    {
      "cell_type": "markdown",
      "metadata": {
        "id": "x2XxLlDAlOne"
      },
      "source": [
        "**%matplotlib** is a magic function in Python. The output of plotting commands is displayed inline within frontends, directly below the code cell that produced it. The resulting plot will also be stored in notebook document.\n",
        "\n",
        "Depending on your system, this command is required so you don't always need to use `plt.show( )`.\n",
        "\n",
        "This is only for Jupyter Notebook or Colab, it won't work if you're on terminal.  \n",
        "\n",
        "For the sake of convenience henceforth we will be adding this command `%matplotlib inline` at the beginning when we import libraries"
      ]
    },
    {
      "cell_type": "code",
      "metadata": {
        "id": "oaSOH35llSgc"
      },
      "source": [
        "import matplotlib.pyplot as plt\n",
        "import numpy as np\n",
        "%matplotlib inline\n",
        "plt.plot([3,7,2,5],[7,4,4,6])\n",
        "#[3,7,2,5] is x_axis and [7,3,4,6] is y_axis"
      ],
      "execution_count": null,
      "outputs": []
    },
    {
      "cell_type": "markdown",
      "metadata": {
        "id": "0l6QpR_8li89"
      },
      "source": [
        "To add x_axis and y_axis labels we use the command `plt.xlabel()` and `plt.ylabel()`  \n",
        "This functions accepts strings, integers, floats as well as $\\LaTeX$ for math equations, as an argument."
      ]
    },
    {
      "cell_type": "code",
      "metadata": {
        "id": "so11fEjBlnHC"
      },
      "source": [
        "import matplotlib.pyplot as plt\n",
        "import numpy as np\n",
        "%matplotlib inline\n",
        "plt.plot([0,2,4,6,8],[1,3,5,7,9])\n",
        "plt.xlabel('Even') # x_axis label\n",
        "plt.ylabel('Odd') # y_axis label"
      ],
      "execution_count": null,
      "outputs": []
    },
    {
      "cell_type": "markdown",
      "metadata": {
        "id": "qflRyiRHl3l6"
      },
      "source": [
        "The number of elements in both the x and y arrays have to be equal. If they are not equal then it gives  \n",
        "`ValueError: x and y must have same first dimension`  \n",
        "Try it out!"
      ]
    },
    {
      "cell_type": "code",
      "metadata": {
        "id": "B8nNwaVpl8B2"
      },
      "source": [
        "import matplotlib.pyplot as plt\n",
        "import numpy as np\n",
        "%matplotlib inline\n",
        "plt.plot([0,2,4,6,8,10],[1,3,5,7,9])\n",
        "plt.xlabel('Even') # x_axis label\n",
        "plt.ylabel('Odd') # y_axis label"
      ],
      "execution_count": null,
      "outputs": []
    },
    {
      "cell_type": "markdown",
      "metadata": {
        "id": "M2fDG7QJmOF4"
      },
      "source": [
        "## Matplotlib Markers\n",
        "You can use the keyword 'marker' to mark each point on the plot. There are different kinds of markers in the library,   \n",
        "refer the documentation for the [list of markers here](https://matplotlib.org/stable/api/markers_api.html)   \n",
        "The most popularly used are:  \n",
        "`'o'` - Circle  \n",
        "`'*'` - Star  \n",
        "`'.'` - Point  \n",
        "`','` - Pixel  \n",
        "`'x'` - X  \n",
        "`'X'` - X filled  \n",
        "`'+'` - Plus  \n",
        "`'P'` - Plus filled  \n",
        "`'s'` - Square"
      ]
    },
    {
      "cell_type": "code",
      "metadata": {
        "id": "qQRIIcvWmSzY"
      },
      "source": [
        "import matplotlib.pyplot as plt\n",
        "import numpy as np\n",
        "%matplotlib inline\n",
        "x = np.arange(0,10)\n",
        "y = np.exp(x)\n",
        "\n",
        "plt.plot(x,y,marker='o')\n",
        "plt.xlabel('x')\n",
        "plt.ylabel('$y=e^x$')"
      ],
      "execution_count": null,
      "outputs": []
    },
    {
      "cell_type": "code",
      "metadata": {
        "id": "pwIW9d4-1R1W"
      },
      "source": [
        "import matplotlib.pyplot as plt\n",
        "%matplotlib inline\n",
        "plt.plot([1,2,3,4], [1,4,9,12])\n",
        "plt.show()"
      ],
      "execution_count": null,
      "outputs": []
    },
    {
      "cell_type": "markdown",
      "metadata": {
        "id": "3bDdOXn_CGdf"
      },
      "source": [
        "Plot graph of\n",
        "$cosx$\n",
        "and\n",
        "$e^{-x/10}cos(x)$"
      ]
    },
    {
      "cell_type": "code",
      "metadata": {
        "id": "R30REs5E6RmS"
      },
      "source": [
        "import matplotlib.pyplot as plt\n",
        "%matplotlib inline\n",
        "import numpy as np\n",
        "x = np.arange(0,20,0.1)\n",
        "y = np.cos(x)\n",
        "y1 = np.exp(-x/10)*np.cos(x)\n",
        "plt.plot(x,y, label = \"Oscillation 1\")\n",
        "plt.plot(x,y1, label = \"Oscillation 2\", color = \"g\")\n",
        "plt.xlabel(\"X axis\")\n",
        "plt.ylabel(\"Y axis\")\n",
        "plt.legend()\n",
        "plt.show()"
      ],
      "execution_count": null,
      "outputs": []
    },
    {
      "cell_type": "code",
      "metadata": {
        "id": "qZ_7nEdS9fwD"
      },
      "source": [
        "import matplotlib.pyplot as plt\n",
        "%matplotlib inline\n",
        "import numpy as np\n",
        "x = np.arange(0,20,0.1)\n",
        "y = (10**x)*(np.cos(x)**2)\n",
        "plt.plot(x,y)\n",
        "plt.yscale(\"log\")\n",
        "plt.xscale(\"log\")\n",
        "plt.show()"
      ],
      "execution_count": null,
      "outputs": []
    },
    {
      "cell_type": "markdown",
      "metadata": {
        "id": "yRLPEZ5hC-DE"
      },
      "source": [
        " `plt.loglog()` function sets the scale of both axes to log scale.\n",
        "\n",
        "> Indented block\n",
        "\n",
        "\n",
        "`plt.yscale('log')`, `plt.xscale('log')` to make x or y scale into log individually"
      ]
    },
    {
      "cell_type": "code",
      "metadata": {
        "id": "pBb-5m3jC_YM"
      },
      "source": [
        "import matplotlib.pyplot as plt\n",
        "%matplotlib inline\n",
        "import numpy as np\n",
        "a = np.arange(0,20)\n",
        "plt.loglog(a,a,'b--',label='y=x')\n",
        "plt.loglog(a,a**2,'r:',label='$y=x^2$')\n",
        "plt.loglog(a,a**3,'g-.',label='$y=x^3$')\n",
        "plt.ylabel('y')\n",
        "plt.xlabel('x')\n",
        "plt.legend()"
      ],
      "execution_count": null,
      "outputs": []
    },
    {
      "cell_type": "markdown",
      "metadata": {
        "id": "K5N_5GcSDTWL"
      },
      "source": [
        "# Infinite Square Well\n",
        "Wavefunction $\\psi(x)$  $$\\psi(x)=\\sqrt{\\frac{2}{a}}\\sin\\Bigg(\\frac{n\\pi x}{a}\\Bigg)$$\n",
        "\n",
        "![image.png](data:image/png;base64,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)"
      ]
    },
    {
      "cell_type": "code",
      "metadata": {
        "id": "E6cg-bMqDUWT"
      },
      "source": [
        "import numpy as np\n",
        "import matplotlib.pyplot as plt\n",
        "\n",
        "pi = np.pi\n",
        "\n",
        "a = 2*pi # width of well\n",
        "\n",
        "x = np.linspace(0,a,10000) # linearly spaced values\n",
        "\n",
        "A = (2/a)**(1/2) #Normalisation Constant\n",
        "\n",
        "#def psi(n,x):\n",
        "  #wf = A*np.sin(n*pi*x/a) #Defining the wavefunction\n",
        "  #return wf\n",
        "\n",
        "y1 = A*np.sin(1*pi*x/a) #Ground state\n",
        "y2 = A*np.sin(2*pi*x/a)\n",
        "y3 = A*np.sin(3*pi*x/a)\n",
        "#y1 = psi(1,x) #Ground state\n",
        "#y2 = psi(2,x)\n",
        "#y3 = psi(3,x)\n",
        "plt.figure(figsize=(15,5),dpi=600)\n",
        "plt.plot(x,y1,c='r',label=\"n=1\")\n",
        "plt.plot(x,y2,c='g',label=\"n=2\")\n",
        "plt.plot(x,y3,c='b',label=\"n=3\")\n",
        "plt.plot(x,y1**2,c='c',label=\"$\\psi_{1}^2$\")\n",
        "plt.plot(x,y2**2,c='m',label=\"$\\psi_{2}^2$\")\n",
        "plt.plot(x,y3**2,c='y',label=\"$\\psi_{3}^2$\")\n",
        "plt.title(\"Wavefunction for Infinite Square Well\")\n",
        "plt.xlabel(\"x values\")\n",
        "plt.ylabel(\"$\\psi(x)$\")\n",
        "plt.legend()\n",
        "#plt.grid()"
      ],
      "execution_count": null,
      "outputs": []
    },
    {
      "cell_type": "code",
      "metadata": {
        "id": "4Dc_sr5t8VcI"
      },
      "source": [],
      "execution_count": null,
      "outputs": []
    }
  ]
}