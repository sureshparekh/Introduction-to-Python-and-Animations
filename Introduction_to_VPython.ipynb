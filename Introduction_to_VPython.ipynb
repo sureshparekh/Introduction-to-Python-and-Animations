{
  "nbformat": 4,
  "nbformat_minor": 0,
  "metadata": {
    "colab": {
      "private_outputs": true,
      "provenance": []
    },
    "kernelspec": {
      "name": "python3",
      "display_name": "Python 3"
    },
    "language_info": {
      "name": "python"
    }
  },
  "cells": [
    {
      "cell_type": "markdown",
      "metadata": {
        "id": "rqPF6j8dC6UQ"
      },
      "source": [
        "#VPython\n",
        "VPython is a language that is pretty easy to use, once you get used to\n",
        "it. Python is becoming widely used by scientists around the world,\n",
        "and VPython is a visual implementation of it. It will help you visu\u0002alize the physics you will be learning.\n",
        "\n",
        "ronment – an environment that is easy to use and understand. Here\n",
        "is what you do:\n",
        "1. Launch a web browser (try Google Chrome), and go to the site\n",
        "www.glowscript.org . The webpage will look like this:\n",
        "2. Sign in with a Google account.\n",
        "3. Follow the link where it says “your programs are here.”\n",
        "4. Click on the “Create New Program” link.\n",
        "5. In the dialog box that appears, type the title “MakingShapes”,\n",
        "then click the “Create” button.\n",
        "\n"
      ]
    },
    {
      "cell_type": "code",
      "metadata": {
        "id": "IMAbh2JiCve5"
      },
      "source": [
        "#Creating Shapes\n",
        "GlowScript 3.1 VPython\n",
        "box()\n",
        "box(pos = vector(1,0,0, size = (.5, .3,.2)))\n",
        "sphere()\n",
        "sphere(radius = 0.25)\n",
        "#Run each line of this code seperately, it is just for understanding how you can define any shape in VPython."
      ],
      "execution_count": null,
      "outputs": []
    },
    {
      "cell_type": "code",
      "metadata": {
        "id": "W4GCh1ZXFTD5"
      },
      "source": [
        "#moving ball\n",
        "GlowScript 3.1 VPython\n",
        "\n",
        "obj = sphere(radius = 0.02, pos = vector(-1,0,0), make_trail = True)\n",
        "t =0\n",
        "dt = 0.05\n",
        "x0 = -1\n",
        "v0 = 1.0\n",
        "\n",
        "while t<2:\n",
        "    rate(10)\n",
        "    x = x0 + v0*t\n",
        "    obj.pos = vector(x,0,0)\n",
        "    t = t + dt"
      ],
      "execution_count": null,
      "outputs": []
    },
    {
      "cell_type": "code",
      "metadata": {
        "id": "N1Ur4nhiFrzb"
      },
      "source": [
        "#moving ball\n",
        "GlowScript 3.1 VPython\n",
        "obj = sphere(radius = 0.2, pos = vector(-1,0,0), make_trail = True)\n",
        "t =0\n",
        "dt = 0.05\n",
        "x0 = -1\n",
        "v0 = 1.0\n",
        "\n",
        "while t<2: #implemented a restriction on time to execute the while loop.\n",
        "    rate(10)\n",
        "    x = x0 + v0*t\n",
        "    obj.pos = vector(x,0,0)  #(.pos) function is used to extract the pos from sphere and replace it with vector(x,0,0)\n",
        "    t = t + dt"
      ],
      "execution_count": null,
      "outputs": []
    },
    {
      "cell_type": "code",
      "metadata": {
        "id": "n8Ew2HenIiO4"
      },
      "source": [
        "#Projectile Motion\n",
        "GlowScript 3.1 VPython\n",
        "\n",
        "\n",
        "ground=box(pos=vector(0,-.2,0),size=vector(10,.4,2),color=color.green)\n",
        "ball=sphere(pos=vector(-5,1.1,0),radius=.1, color=color.yellow, make_trail=True)\n",
        "r0=ball.pos\n",
        "g=vector(0,-9.8,0)\n",
        "ball.m=0.2\n",
        "v0=10  # You can use input() for asking velocity, mass, angle, etc from the user.\n",
        "theta=70*pi/180\n",
        "ball.p=ball.m*v0*vector(cos(theta),sin(theta),0)\n",
        "\n",
        "t=0\n",
        "dt=0.001\n",
        "\n",
        "while ball.pos.y>=0.1:\n",
        "  rate(1000)\n",
        "  Fnet=ball.m*g\n",
        "  ball.p=ball.p+Fnet*dt\n",
        "  ball.pos=ball.pos+ball.p*dt/ball.m\n",
        "  t=t+dt\n",
        "\n",
        "print(\"dr final = \",ball.pos-r0,\" m\") #you can even use f'' for printing the variable along with the string\n",
        "print(\"t final = \",t,\" s\")\n",
        "\n"
      ],
      "execution_count": null,
      "outputs": []
    },
    {
      "cell_type": "code",
      "metadata": {
        "id": "EoN92RaH36Fj"
      },
      "source": [
        "# Mass - Spring System\n",
        "GlowScript 3.1 VPython\n",
        "obj = sphere(pos = vector(-1,0,0), radius = 0.5, color = color.green)\n",
        "spring = helix(pos = vector(-5,0,0), axis = vector(4,0,0), radius = 0.5)\n",
        "#axis command is used to specify the length of the helix. Thst's why we are chsnging it to make it look like a spring motion.\n",
        "wall = box(pos = vector(-5.5,0,0), length = 0.5, height = 2, width = 0.25)\n",
        "\n",
        "t = 0\n",
        "dt = 0.01\n",
        "x = -1\n",
        "v = 0\n",
        "k = 1\n",
        "m = 1\n",
        "\n",
        "while t < 25:\n",
        "    rate(200)\n",
        "    obj.pos = vector(x,0,0)\n",
        "    spring.axis = vector(x+5, 0, 0)  #x+5 is obtained by trial and eror to make it appear attached with the ball.\n",
        "    F = - k*x\n",
        "    a =F/m\n",
        "    v = v + a*dt\n",
        "    x = x + v*dt\n",
        "    t = t + dt"
      ],
      "execution_count": null,
      "outputs": []
    },
    {
      "cell_type": "code",
      "metadata": {
        "id": "pa7i14tB6Ibi"
      },
      "source": [
        "#Voyager 2\n",
        "GlowScript 3.1 VPython\n",
        "G = 6.7e-11\n",
        "planet = sphere(pos = vector(2e8, 4e8, 0), radius = 5e7, color = color.orange, make_trail = True)\n",
        "planet.mass = 1e26\n",
        "planet.p = vector(-1.5e3, 0, 0) * planet.mass\n",
        "planet.K = mag2(planet.p)/(2*planet.mass)\n",
        "\n",
        "probe = sphere(pos = vector(-2.0e9, 5.2e8, 0), radius = 1e7, color = color.yellow, make_trail = True)\n",
        "probe.mass = 1e4\n",
        "probe.p = vector(5e3, 0,0) * probe.mass\n",
        "probe.K = mag2(probe.p)/(2*probe.mass)\n",
        "print(\"Initial Kinetic Energy of Probe; \", probe.K, \". Initial KE of Planet\", planet.K)\n",
        "\n",
        "dt = 2e2\n",
        "r = planet.pos - probe.pos\n",
        "r0 = r\n",
        "\n",
        "while mag(r) <= mag(r0):\n",
        "    rate(300)\n",
        "    r = planet.pos - probe.pos\n",
        "    F = G * planet.mass * probe.mass * r.hat / mag2(r)\n",
        "    #r.hat cnverts r vector to its respective unit vector. mag(r) gives us the magnitude of vector 2. mag2(r) gives the square of the magnitude of vector r.\n",
        "\n",
        "    planet.p = planet.p - F*dt\n",
        "    probe.p = probe.p + F*dt\n",
        "    probe.K = mag2(probe.p)/(2*probe.mass)\n",
        "\n",
        "    planet.pos = planet.pos + (planet.p / planet.mass) * dt\n",
        "    probe.pos = probe.pos + (probe.p / probe.mass) * dt\n",
        "print(\"Final KE of Probe: \", probe.K, \". Final KE of Planet: \", planet.K)"
      ],
      "execution_count": null,
      "outputs": []
    },
    {
      "cell_type": "code",
      "metadata": {
        "id": "6_Uyk5Mo6UB4"
      },
      "source": [
        "# Comet Orbiting Sun\n",
        "GlowScript 3.1 VPython\n",
        "G = 6.7e-11\n",
        "\n",
        "sun = sphere(pos = vector(0, 0, 0), radius = 2e10, color = color.orange, make_trail = True)\n",
        "\n",
        "sun.mass = 2e30\n",
        "\n",
        "comet = sphere(pos = vector(-1.5e11, 0, 0), radius = 4e10, color = color.white, make_trail = True)\n",
        "comet.mass = 1.25e13\n",
        "comet.p = vector(0, -41.89e3, 0) * comet.mass\n",
        "\n",
        "sun.p = -comet.p\n",
        "\n",
        "dt = 1e5\n",
        "t = 0\n",
        "while True:\n",
        "    rate(2000)\n",
        "    r = comet.pos - sun.pos\n",
        "    F = G * sun.mass * comet.mass * r.hat / mag2(r)\n",
        "\n",
        "    sun.p = sun.p + F*dt\n",
        "    comet.p = comet.p - F*dt\n",
        "    sun.pos = sun.pos + (sun.p/sun.mass) * dt\n",
        "    comet.pos = comet.pos + (comet.p/comet.mass) * dt\n",
        "    t = t + dt"
      ],
      "execution_count": null,
      "outputs": []
    }
  ]
}