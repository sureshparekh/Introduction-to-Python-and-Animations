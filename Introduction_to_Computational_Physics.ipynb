{
  "nbformat": 4,
  "nbformat_minor": 0,
  "metadata": {
    "colab": {
      "private_outputs": true,
      "provenance": []
    },
    "kernelspec": {
      "name": "python3",
      "display_name": "Python 3"
    },
    "language_info": {
      "name": "python"
    }
  },
  "cells": [
    {
      "cell_type": "markdown",
      "metadata": {
        "id": "sv0WVzdEIb8s"
      },
      "source": [
        "#**Introduction to Computational Physics**\n",
        "\n",
        "\n"
      ]
    },
    {
      "cell_type": "markdown",
      "metadata": {
        "id": "k065NasjMPUV"
      },
      "source": [
        "###Exercise 1\n",
        "\n",
        "Let's get started with calculating magnitude of a vector.\n",
        "\n",
        "Let a vector be: u = xi + yj + zk\n",
        "\n",
        "magnitude of u is\n",
        "\n",
        "$\\sqrt{x^{2} + y^{2} + z^{2}}$\n",
        "\n"
      ]
    },
    {
      "cell_type": "code",
      "metadata": {
        "id": "Ro5UgLEJJQAI"
      },
      "source": [
        "x = float(input(\"Enter the magnitude of i: \"))\n",
        "y = float(input(\"Enter the magnitude of j: \"))\n",
        "z = float(input(\"Enter the magnitude of k: \"))\n",
        "magnitude = (x**2 + y**2 + z**2)**0.5\n",
        "print(f'Magnitude of specified vector is {magnitude} units')\n"
      ],
      "execution_count": null,
      "outputs": []
    },
    {
      "cell_type": "markdown",
      "metadata": {
        "id": "5mP0Lj1HQH8p"
      },
      "source": []
    },
    {
      "cell_type": "markdown",
      "metadata": {
        "id": "5FJkS3LfEmdB"
      },
      "source": [
        "### Imaginary numbers:\n",
        "\n",
        "**Defining an imaginary number**:\n",
        "\n",
        "Main ways to define the complex number:"
      ]
    },
    {
      "cell_type": "code",
      "metadata": {
        "id": "X-rnR3nDQLAc"
      },
      "source": [
        "c = 5 + 4j\n",
        "print(type(c))\n",
        "\n",
        "d = 10j + 7\n",
        "print(type(d))\n",
        "\n",
        "f = 2j\n",
        "print(type(f))"
      ],
      "execution_count": null,
      "outputs": []
    },
    {
      "cell_type": "markdown",
      "metadata": {
        "id": "j3aPsbKlFSt0"
      },
      "source": [
        "Python understands \"`j`\" as $\\sqrt{-1}$\n",
        "\n",
        "Common mistakes to avoid:\n",
        "\n",
        "- Don't use `a + b*j`, otherwise you will encounter an error. Instead use the above methods to define the complex number."
      ]
    },
    {
      "cell_type": "markdown",
      "metadata": {
        "id": "eOO-1Um_JGc3"
      },
      "source": [
        "<u>**Note**</u>: If we want to define a *very large or a very small number*, for example, the planck's constant,  *h* = $6.626*10^{-34}$ (in SI Units), or speed of light, *c* = $3*10^{8}$ (SI Units). We can use the following notation:"
      ]
    },
    {
      "cell_type": "code",
      "metadata": {
        "id": "osAB2uwNQXZ7"
      },
      "source": [
        "# Planck's constant\n",
        "h = 6.626e-34\n",
        "print(h)\n",
        "# Speed of light\n",
        "c = 3e8\n",
        "print(c)"
      ],
      "execution_count": null,
      "outputs": []
    },
    {
      "cell_type": "markdown",
      "metadata": {
        "id": "jgW-JKOwQ3HR"
      },
      "source": [
        "###Exercise 2\n",
        "\n",
        "Computing Einstein's famoous mass-energy equivalence\n",
        "In physics, mass–energy equivalence is the relationship between mass and energy in a system's rest frame, where the two values differ only by a constant and the units of measurement. The principle is described by the physicist Albert Einstein's famous formula:\n",
        "*italicized text*\n",
        "$ E = m  c^{2}$"
      ]
    },
    {
      "cell_type": "code",
      "metadata": {
        "id": "1mTctKYiRTCE"
      },
      "source": [
        "selection = input(\"Calculate (M)ass or (E)nergy: \")\n",
        "c = 3e8\n",
        "print\n",
        "selection = selection.upper()\n",
        "\n",
        "if selection == 'M':\n",
        "  Energy = float(input(\"Enter the value of Energy (Joule): \"))\n",
        "  Mass =  (Energy)/(c**2)\n",
        "  print(f' The obtained value of mass is {Mass} kg')\n",
        "\n",
        "elif selection == 'E':\n",
        "  mass = float(input(\"Enter the value of Mass (kg): \"))\n",
        "  energy = (mass)*(c**2)\n",
        "  print(f'The obtained value of energy is {energy} joules')\n",
        "\n",
        "else:\n",
        "  print(\"Invalid Input\")"
      ],
      "execution_count": null,
      "outputs": []
    },
    {
      "cell_type": "markdown",
      "metadata": {
        "id": "vrDatP6EhYIG"
      },
      "source": [
        "##**Numpy**\n",
        "\n",
        "NumPy contains a large number of various mathematical operations. NumPy provides standard trigonometric functions, functions for arithmetic operations, handling complex numbers, etc."
      ]
    },
    {
      "cell_type": "code",
      "metadata": {
        "id": "e_lw8_sdiRVT"
      },
      "source": [
        "import numpy as np\n",
        "\n",
        "arr = np.array([1, 2, 3, 4, 5])\n",
        "\n",
        "print(arr)"
      ],
      "execution_count": null,
      "outputs": []
    },
    {
      "cell_type": "code",
      "metadata": {
        "id": "xwcEm7Qaih2d"
      },
      "source": [
        "import numpy as np\n",
        "\n",
        "arr = np.array([[1, 2, 3], [4, 5, 6]])\n",
        "\n",
        "print(arr)"
      ],
      "execution_count": null,
      "outputs": []
    },
    {
      "cell_type": "code",
      "metadata": {
        "id": "zFJkluCpimDX"
      },
      "source": [
        "import numpy as np\n",
        "\n",
        "arr = np.array([[[1, 2, 3], [4, 5, 6]], [[1, 2, 3], [4, 5, 6]]])\n",
        "\n",
        "print(arr)"
      ],
      "execution_count": null,
      "outputs": []
    },
    {
      "cell_type": "code",
      "metadata": {
        "id": "H3qgabj7izDX"
      },
      "source": [
        "import numpy as np\n",
        "\n",
        "a = np.array(42)\n",
        "b = np.array([1, 2, 3, 4, 5])\n",
        "c = np.array([[1, 2, 3], [4, 5, 6]])\n",
        "d = np.array([[[1, 2, 3], [4, 5, 6]], [[1, 2, 3], [4, 5, 6]]]) #An array that has 2-D arrays (matrices) as its elements is called 3-D array.\n",
        "print(f'a = {a}')\n",
        "print(f'b = {b}')\n",
        "print(f'c = {c}')\n",
        "print(f'd = {d}')\n",
        "print(f' dimention of a = {a.ndim}')\n",
        "print(f' dimention of b = {b.ndim}')\n",
        "print(f' dimention of c = {c.ndim}')\n",
        "print(f' dimention of d = {d.ndim}')"
      ],
      "execution_count": null,
      "outputs": []
    },
    {
      "cell_type": "code",
      "metadata": {
        "id": "z5ext1HWkC-3"
      },
      "source": [
        "import numpy as np\n",
        "\n",
        "arr = np.array([1, 2, 3, 4])\n",
        "\n",
        "print(arr[1])\n",
        "\n",
        "print(arr[2] + arr[3])"
      ],
      "execution_count": null,
      "outputs": []
    },
    {
      "cell_type": "code",
      "metadata": {
        "id": "fXU0Fzeuke1B"
      },
      "source": [
        "import numpy as np\n",
        "\n",
        "arr = np.array([[[1, 2, 3], [4, 5, 6]], [[7, 8, 9], [10, 11, 12]]])\n",
        "\n",
        "print(arr[0, 1, 2])"
      ],
      "execution_count": null,
      "outputs": []
    },
    {
      "cell_type": "markdown",
      "metadata": {
        "id": "4OQguB3HlHIP"
      },
      "source": [
        "###Exercise 3\n",
        "\n",
        "Range of a Projectile:\n",
        "\n",
        "$R = \\frac{v^2\\sin2\\alpha}{g}$\n",
        "\n",
        "Maximum Height:\n",
        "\n",
        "$H = \\frac{v^2\\sin^2\\alpha}{2g}$\n",
        "\n"
      ]
    },
    {
      "cell_type": "code",
      "metadata": {
        "id": "7f_xgkw3lsPg"
      },
      "source": [
        "import math\n",
        "v = float(input(\"initial Velocity (m/s): \"))\n",
        "a = float(input(\"Angle of Projectile(degrees): \"))\n",
        "\n",
        "g = 9.8\n",
        "r = 2*a\n",
        "\n",
        "A = math.sin(math.radians(r))\n",
        "H = math.sin(math.radians(r))\n",
        "R = ((v**2)*(A))/(g)\n",
        "print(f'Range of projectile is {R} m')\n",
        "h = ((v**2)*(H**2))/(2*g)\n",
        "print(f'Max. Height of projectile is {h} m')"
      ],
      "execution_count": null,
      "outputs": []
    },
    {
      "cell_type": "markdown",
      "metadata": {
        "id": "drPITBq4E95y"
      },
      "source": [
        "###Exercise 4\n",
        "\n",
        "\n",
        "A ball is thrown vertically\n",
        "upwards with a velocity of 20 $ms^{-1}$.\n",
        "\n",
        "(a) How high the ball will rise?\n",
        "\n",
        "(b) Calculate the the total time of flight of the ball.\n",
        "\n",
        "g = 10 $ms^{-2}$\n",
        "\n",
        "Equations:\n",
        "\n",
        "$v = u + at$\n",
        "\n",
        "$v^{2} - v_{0}^{2} = 2ad$\n",
        "\n",
        "$d = ut + \\frac{1}{2} at^{2}$"
      ]
    },
    {
      "cell_type": "code",
      "metadata": {
        "id": "df76MvyFFykm"
      },
      "source": [
        "v = 20\n",
        "a = 10\n",
        "d = (v**2)/(2*a)\n",
        "t = 2 * (v/a)\n",
        "chieved isprint(f'maximum hight that the ball a {d} m')\n",
        "print(f'Time of flight of ball is {t} s')"
      ],
      "execution_count": null,
      "outputs": []
    }
  ]
}